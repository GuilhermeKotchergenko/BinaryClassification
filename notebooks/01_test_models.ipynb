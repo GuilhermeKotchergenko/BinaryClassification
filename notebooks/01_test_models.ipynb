{
 "cells": [
  {
   "cell_type": "code",
   "execution_count": 245,
   "id": "d8c1e797",
   "metadata": {},
   "outputs": [],
   "source": [
    "import pandas as pd\n",
    "from sklearn.model_selection import train_test_split\n",
    "import numpy as np\n",
    "import sys\n",
    "import os\n",
    "import matplotlib.pyplot as plt\n",
    "import importlib\n",
    "from sklearn.metrics import accuracy_score, precision_score, recall_score, f1_score, confusion_matrix\n",
    "\n",
    "# Adiciona o caminho da raiz do projeto (BINARYCLASSIFICATION) ao sys.path\n",
    "sys.path.append(os.path.abspath(\"..\"))\n"
   ]
  },
  {
   "cell_type": "code",
   "execution_count": 246,
   "id": "648fa4b6",
   "metadata": {},
   "outputs": [],
   "source": [
    "df = pd.read_csv(\"../data/class_imbalance/dataset_38_sick.csv\")"
   ]
  },
  {
   "cell_type": "code",
   "execution_count": 247,
   "id": "2aaba427",
   "metadata": {},
   "outputs": [
    {
     "name": "stdout",
     "output_type": "stream",
     "text": [
      "    age sex on_thyroxine query_on_thyroxine on_antithyroid_medication sick  \\\n",
      "0  41.0   F            f                  f                         f    f   \n",
      "1  23.0   F            f                  f                         f    f   \n",
      "2  46.0   M            f                  f                         f    f   \n",
      "3  70.0   F            t                  f                         f    f   \n",
      "4  70.0   F            f                  f                         f    f   \n",
      "\n",
      "  pregnant thyroid_surgery I131_treatment query_hypothyroid  ... TT4_measured  \\\n",
      "0        f               f              f                 f  ...            t   \n",
      "1        f               f              f                 f  ...            t   \n",
      "2        f               f              f                 f  ...            t   \n",
      "3        f               f              f                 f  ...            t   \n",
      "4        f               f              f                 f  ...            t   \n",
      "\n",
      "     TT4 T4U_measured   T4U FTI_measured    FTI TBG_measured  TBG  \\\n",
      "0  125.0            t  1.14            t  109.0            f  NaN   \n",
      "1  102.0            f   NaN            f    NaN            f  NaN   \n",
      "2  109.0            t  0.91            t  120.0            f  NaN   \n",
      "3  175.0            f   NaN            f    NaN            f  NaN   \n",
      "4   61.0            t  0.87            t   70.0            f  NaN   \n",
      "\n",
      "  referral_source     Class  \n",
      "0            SVHC  negative  \n",
      "1           other  negative  \n",
      "2           other  negative  \n",
      "3           other  negative  \n",
      "4             SVI  negative  \n",
      "\n",
      "[5 rows x 30 columns]\n"
     ]
    }
   ],
   "source": [
    "print(df.head())"
   ]
  },
  {
   "cell_type": "code",
   "execution_count": 248,
   "id": "c6003b56",
   "metadata": {},
   "outputs": [
    {
     "name": "stdout",
     "output_type": "stream",
     "text": [
      "Class\n",
      "negative    3541\n",
      "sick         231\n",
      "Name: count, dtype: int64\n"
     ]
    }
   ],
   "source": [
    "print(df.value_counts(df.columns[-1]))"
   ]
  },
  {
   "cell_type": "code",
   "execution_count": 249,
   "id": "7b1a276b",
   "metadata": {},
   "outputs": [],
   "source": [
    "df[\"Class\"] = df[\"Class\"].map({\"negative\": 0, \"sick\": 1})\n"
   ]
  },
  {
   "cell_type": "code",
   "execution_count": 250,
   "id": "fb3e620f",
   "metadata": {},
   "outputs": [],
   "source": [
    "binary_map = {\"t\": 1, \"f\": 0, \"M\": 1, \"F\": 0}\n",
    "df = df.replace(binary_map)\n"
   ]
  },
  {
   "cell_type": "code",
   "execution_count": 251,
   "id": "c84e7768",
   "metadata": {},
   "outputs": [],
   "source": [
    "df = df.replace(\"?\", np.nan)"
   ]
  },
  {
   "cell_type": "code",
   "execution_count": 252,
   "id": "74862aa1",
   "metadata": {},
   "outputs": [],
   "source": [
    "df = df.drop(columns=[\"referral_source\"])\n"
   ]
  },
  {
   "cell_type": "code",
   "execution_count": 253,
   "id": "63a02fd8",
   "metadata": {},
   "outputs": [],
   "source": [
    "num_cols = df.select_dtypes(include=['float64', 'int64']).columns\n",
    "cat_cols = df.select_dtypes(include=['object', 'bool']).columns\n",
    "\n",
    "# Preenche colunas numéricas com a média\n",
    "for col in num_cols:\n",
    "    df[col] = df[col].fillna(df[col].mean())\n",
    "\n",
    "# Preenche colunas categóricas com a moda (linha por linha, seguro)\n",
    "for col in cat_cols:\n",
    "    if df[col].isnull().sum() > 0:\n",
    "        moda = df[col].mode()\n",
    "        if not moda.empty:\n",
    "            df[col] = df[col].fillna(moda.iloc[0])\n"
   ]
  },
  {
   "cell_type": "code",
   "execution_count": 254,
   "id": "fb7e9091",
   "metadata": {},
   "outputs": [
    {
     "name": "stdout",
     "output_type": "stream",
     "text": [
      "Valores ausentes restantes: 3772\n"
     ]
    }
   ],
   "source": [
    "print(\"Valores ausentes restantes:\", df.isnull().sum().sum())\n"
   ]
  },
  {
   "cell_type": "code",
   "execution_count": 255,
   "id": "97870f2b",
   "metadata": {},
   "outputs": [
    {
     "name": "stdout",
     "output_type": "stream",
     "text": [
      "TBG    3772\n",
      "dtype: int64\n"
     ]
    }
   ],
   "source": [
    "print(df.isnull().sum()[df.isnull().sum() > 0].sort_values(ascending=False))\n"
   ]
  },
  {
   "cell_type": "code",
   "execution_count": 256,
   "id": "a9ed0535",
   "metadata": {},
   "outputs": [],
   "source": [
    "df = df.drop(columns=[\"TBG\"])\n"
   ]
  },
  {
   "cell_type": "code",
   "execution_count": 257,
   "id": "1cafa05c",
   "metadata": {},
   "outputs": [],
   "source": [
    "X = df.drop(\"Class\", axis=1).values\n",
    "y = df[\"Class\"].values\n"
   ]
  },
  {
   "cell_type": "code",
   "execution_count": 258,
   "id": "28ddf068",
   "metadata": {},
   "outputs": [],
   "source": [
    "X_train, X_test, y_train, y_test = train_test_split(\n",
    "    X, y, test_size=0.2, random_state=42, stratify=y  # mantém proporção das classes\n",
    ")\n",
    "\n",
    "\n"
   ]
  },
  {
   "cell_type": "code",
   "execution_count": 259,
   "id": "07d2dd67",
   "metadata": {},
   "outputs": [
    {
     "name": "stdout",
     "output_type": "stream",
     "text": [
      "Probabilidades previstas (amostra): [0.11460595 0.03569645 0.02111797 0.04245768 0.14969436 0.00239761\n",
      " 0.08685889 0.00162306 0.07343024 0.04363462]\n",
      "Min/Max das probabilidades: 9.547173265151918e-07 0.5473472227407994\n"
     ]
    }
   ],
   "source": [
    "from src.BCE_Logistic_regression import LogisticRegression\n",
    "\n",
    "# Treinamento com BCE\n",
    "model_bce = LogisticRegression(lr=0.001, tolerance=1e-6, max_iters=1000)\n",
    "model_bce.fit(X_train, y_train)\n",
    "\n",
    "# Previsões de probabilidade no conjunto de teste\n",
    "probs = model_bce.predict_proba(X_test)\n",
    "\n",
    "# Inspeção das saídas\n",
    "print(\"Probabilidades previstas (amostra):\", probs[:10])\n",
    "print(\"Min/Max das probabilidades:\", np.min(probs), np.max(probs))\n",
    "\n",
    "# Salvando erros para comparar modelos \n",
    "errors_bce = model_bce.errors"
   ]
  },
  {
   "cell_type": "code",
   "execution_count": 260,
   "id": "9bb2ce5b",
   "metadata": {},
   "outputs": [
    {
     "data": {
      "text/plain": [
       "'\\n### Situação e Interpretação de probabilidade no conjunto de teste\\n\\n- **Todas as probs perto de 0**  \\n    O modelo só prevê a classe 0 (underfitting ou classe dominante).\\n\\n- **Todas as probs perto de 1**  \\n    O modelo só prevê a classe 1 (mesmo problema invertido).\\n\\n- **Todas as probs em torno de 0.5**  \\n    O modelo não aprendeu nada útil (provável má inicialização ou erro de loss).\\n\\n- **Probs bem distribuídas (entre 0.1 e 0.9)**  \\n    Bom sinal de que está aprendendo\\n'"
      ]
     },
     "execution_count": 260,
     "metadata": {},
     "output_type": "execute_result"
    }
   ],
   "source": [
    "\"\"\"\n",
    "### Situação e Interpretação de probabilidade no conjunto de teste\n",
    "\n",
    "- **Todas as probs perto de 0**  \n",
    "    O modelo só prevê a classe 0 (underfitting ou classe dominante).\n",
    "\n",
    "- **Todas as probs perto de 1**  \n",
    "    O modelo só prevê a classe 1 (mesmo problema invertido).\n",
    "\n",
    "- **Todas as probs em torno de 0.5**  \n",
    "    O modelo não aprendeu nada útil (provável má inicialização ou erro de loss).\n",
    "\n",
    "- **Probs bem distribuídas (entre 0.1 e 0.9)**  \n",
    "    Bom sinal de que está aprendendo\n",
    "\"\"\""
   ]
  },
  {
   "cell_type": "code",
   "execution_count": 261,
   "id": "82e393af",
   "metadata": {},
   "outputs": [
    {
     "name": "stdout",
     "output_type": "stream",
     "text": [
      "BCE Model\n",
      "Acurácia: 0.9364238410596026\n",
      "Precisão: 0.0\n",
      "Recall: 0.0\n",
      "F1-score: 0.0\n",
      "Matriz de Confusão:\n",
      "[[707   2]\n",
      " [ 46   0]]\n"
     ]
    }
   ],
   "source": [
    "y_pred = model_bce.predict(X_test)\n",
    "print(\"BCE Model\")\n",
    "print(\"Acurácia:\", accuracy_score(y_test, y_pred))\n",
    "print(\"Precisão:\", precision_score(y_test, y_pred))\n",
    "print(\"Recall:\", recall_score(y_test, y_pred))\n",
    "print(\"F1-score:\", f1_score(y_test, y_pred))\n",
    "print(\"Matriz de Confusão:\")\n",
    "print(confusion_matrix(y_test, y_pred))\n",
    "\n"
   ]
  },
  {
   "cell_type": "code",
   "execution_count": 262,
   "id": "c4c71dae",
   "metadata": {},
   "outputs": [],
   "source": [
    "## Teste com nova funcao de custo\n",
    "# Isso garante que qualquer alteração feita entre em vigor sem reiniciar o kernel.\n",
    "import src.Focal_Loss_Logistic_Regression  # importa o módulo base\n",
    "importlib.reload(src.Focal_Loss_Logistic_Regression)  # força recarregamento\n",
    "\n",
    "from src.Focal_Loss_Logistic_Regression import LogisticRegression"
   ]
  },
  {
   "cell_type": "code",
   "execution_count": 263,
   "id": "c7599b3b",
   "metadata": {},
   "outputs": [
    {
     "name": "stdout",
     "output_type": "stream",
     "text": [
      "Convergência alcançada em 28 iterações.\n",
      "Alpha: 0.1, Gamma: 2.5 -> F1-score: 0.3297\n",
      "Convergência alcançada em 21 iterações.\n",
      "Alpha: 0.1, Gamma: 3.0 -> F1-score: 0.0000\n",
      "Convergência alcançada em 11 iterações.\n",
      "Alpha: 0.1, Gamma: 3.5 -> F1-score: 0.1935\n",
      "Convergência alcançada em 20 iterações.\n",
      "Alpha: 0.1, Gamma: 4.0 -> F1-score: 0.2432\n",
      "Convergência alcançada em 201 iterações.\n",
      "Alpha: 0.2, Gamma: 2.5 -> F1-score: 0.3448\n",
      "Convergência alcançada em 762 iterações.\n",
      "Alpha: 0.2, Gamma: 3.0 -> F1-score: 0.4082\n",
      "Convergência alcançada em 72 iterações.\n",
      "Alpha: 0.2, Gamma: 3.5 -> F1-score: 0.3800\n",
      "Convergência alcançada em 99 iterações.\n",
      "Alpha: 0.2, Gamma: 4.0 -> F1-score: 0.2424\n",
      "Convergência alcançada em 1 iterações.\n",
      "Alpha: 0.25, Gamma: 2.5 -> F1-score: 0.0000\n",
      "Convergência alcançada em 376 iterações.\n",
      "Alpha: 0.25, Gamma: 3.0 -> F1-score: 0.3833\n",
      "Convergência alcançada em 5 iterações.\n",
      "Alpha: 0.25, Gamma: 3.5 -> F1-score: 0.0000\n",
      "Convergência alcançada em 776 iterações.\n",
      "Alpha: 0.25, Gamma: 4.0 -> F1-score: 0.3200\n",
      "Convergência alcançada em 1 iterações.\n",
      "Alpha: 0.3, Gamma: 2.5 -> F1-score: 0.0000\n",
      "Convergência alcançada em 3 iterações.\n",
      "Alpha: 0.3, Gamma: 3.0 -> F1-score: 0.0000\n",
      "Convergência alcançada em 562 iterações.\n",
      "Alpha: 0.3, Gamma: 3.5 -> F1-score: 0.3504\n",
      "Convergência alcançada em 2 iterações.\n",
      "Alpha: 0.3, Gamma: 4.0 -> F1-score: 0.0000\n",
      "\n",
      "Melhores parâmetros:\n",
      "Alpha: 0.2, Gamma: 3.0, F1-score: 0.4082\n"
     ]
    }
   ],
   "source": [
    "from sklearn.metrics import f1_score\n",
    "from itertools import product\n",
    "\n",
    "# Parâmetros do Grid Search\n",
    "gamma_values = [2.5, 3.0, 3.5, 4.0]\n",
    "alpha_values = [0.1, 0.2, 0.25, 0.3]\n",
    "\n",
    "best_f1 = 0\n",
    "best_params = {}\n",
    "\n",
    "# Grid Search\n",
    "for alpha, gamma in product(alpha_values, gamma_values):\n",
    "    model = LogisticRegression(lr=0.01, max_iters=1000, alpha=alpha, gamma=gamma)\n",
    "    model.fit(X_train, y_train)\n",
    "\n",
    "    y_pred = model.predict(X_test)\n",
    "    f1 = f1_score(y_test, y_pred)\n",
    "\n",
    "    print(f\"Alpha: {alpha}, Gamma: {gamma} -> F1-score: {f1:.4f}\")\n",
    "\n",
    "    if f1 > best_f1:\n",
    "        best_f1 = f1\n",
    "        best_params = {'alpha': alpha, 'gamma': gamma}\n",
    "\n",
    "print(\"\\nMelhores parâmetros:\")\n",
    "print(f\"Alpha: {best_params['alpha']}, Gamma: {best_params['gamma']}, F1-score: {best_f1:.4f}\")\n"
   ]
  },
  {
   "cell_type": "code",
   "execution_count": 264,
   "id": "13731c45",
   "metadata": {},
   "outputs": [
    {
     "name": "stdout",
     "output_type": "stream",
     "text": [
      "Convergência alcançada em 72 iterações.\n"
     ]
    }
   ],
   "source": [
    "model_focal = LogisticRegression(lr=0.001, tolerance=1e-6, max_iters=1000, alpha=0.1, gamma=2.5)\n",
    "model_focal.fit(X_train, y_train)"
   ]
  },
  {
   "cell_type": "code",
   "execution_count": 265,
   "id": "91086c82",
   "metadata": {},
   "outputs": [
    {
     "name": "stdout",
     "output_type": "stream",
     "text": [
      "Focal Loss Model\n",
      "Acurácia: 0.937748344370861\n",
      "Precisão: 0.0\n",
      "Recall: 0.0\n",
      "F1-score: 0.0\n",
      "Matriz de Confusão:\n",
      "[[708   1]\n",
      " [ 46   0]]\n"
     ]
    }
   ],
   "source": [
    "y_pred = model_focal.predict(X_test)\n",
    "print(\"Focal Loss Model\")\n",
    "print(\"Acurácia:\", accuracy_score(y_test, y_pred))\n",
    "print(\"Precisão:\", precision_score(y_test, y_pred))\n",
    "print(\"Recall:\", recall_score(y_test, y_pred))\n",
    "print(\"F1-score:\", f1_score(y_test, y_pred))\n",
    "print(\"Matriz de Confusão:\")\n",
    "print(confusion_matrix(y_test, y_pred))\n",
    "\n"
   ]
  },
  {
   "cell_type": "code",
   "execution_count": 266,
   "id": "9af0dd15",
   "metadata": {},
   "outputs": [],
   "source": [
    "## Teste com nova funcao de custo\n",
    "# Isso garante que qualquer alteração feita entre em vigor sem reiniciar o kernel.\n",
    "import src.Weighted_BCE_Logistic_regression  # importa o módulo base\n",
    "importlib.reload(src.Weighted_BCE_Logistic_regression)  # força recarregamento\n",
    "\n",
    "from src.Weighted_BCE_Logistic_regression import LogisticRegression"
   ]
  },
  {
   "cell_type": "code",
   "execution_count": 267,
   "id": "0f83550c",
   "metadata": {},
   "outputs": [
    {
     "name": "stdout",
     "output_type": "stream",
     "text": [
      "Convergência alcançada em 56 iterações.\n",
      "Weighted BCE Model\n",
      "Acurácia: 0.7960264900662252\n",
      "Precisão: 0.17073170731707318\n",
      "Recall: 0.6086956521739131\n",
      "F1-score: 0.26666666666666666\n",
      "Matriz de Confusão:\n",
      "[[573 136]\n",
      " [ 18  28]]\n"
     ]
    }
   ],
   "source": [
    "model_weighted = LogisticRegression(lr=0.001, max_iters=1000)\n",
    "model_weighted.fit(X_train, y_train)\n",
    "\n",
    "y_pred = model_weighted.predict(X_test)\n",
    "print(\"Weighted BCE Model\")\n",
    "print(\"Acurácia:\", accuracy_score(y_test, y_pred))\n",
    "print(\"Precisão:\", precision_score(y_test, y_pred))\n",
    "print(\"Recall:\", recall_score(y_test, y_pred))\n",
    "print(\"F1-score:\", f1_score(y_test, y_pred))\n",
    "print(\"Matriz de Confusão:\")\n",
    "print(confusion_matrix(y_test, y_pred))"
   ]
  },
  {
   "cell_type": "code",
   "execution_count": 268,
   "id": "93d0cb47",
   "metadata": {},
   "outputs": [],
   "source": [
    "## Teste com nova funcao de custo\n",
    "# Isso garante que qualquer alteração feita entre em vigor sem reiniciar o kernel.\n",
    "from src.Weighted_BCE_Logistic_regression_New_Sigmoid import LogisticRegression\n"
   ]
  },
  {
   "cell_type": "code",
   "execution_count": 269,
   "id": "42cb39e8",
   "metadata": {},
   "outputs": [
    {
     "name": "stdout",
     "output_type": "stream",
     "text": [
      "Temperature: 1.0, Threshold: 0.3 -> F1-score: 0.1560\n",
      "Temperature: 1.0, Threshold: 0.35 -> F1-score: 0.1544\n",
      "Temperature: 1.0, Threshold: 0.4 -> F1-score: 0.1491\n",
      "Convergência alcançada em 209 iterações.\n",
      "Temperature: 1.0, Threshold: 0.5 -> F1-score: 0.1153\n",
      "Temperature: 1.5, Threshold: 0.3 -> F1-score: 0.3636\n",
      "Temperature: 1.5, Threshold: 0.35 -> F1-score: 0.3729\n",
      "Temperature: 1.5, Threshold: 0.4 -> F1-score: 0.3761\n",
      "Temperature: 1.5, Threshold: 0.5 -> F1-score: 0.1590\n",
      "Temperature: 1.8, Threshold: 0.3 -> F1-score: 0.3866\n",
      "Temperature: 1.8, Threshold: 0.35 -> F1-score: 0.3684\n",
      "Temperature: 1.8, Threshold: 0.4 -> F1-score: 0.1527\n",
      "Temperature: 1.8, Threshold: 0.5 -> F1-score: 0.3495\n",
      "Temperature: 2.0, Threshold: 0.3 -> F1-score: 0.3729\n",
      "Temperature: 2.0, Threshold: 0.35 -> F1-score: 0.3866\n",
      "Temperature: 2.0, Threshold: 0.4 -> F1-score: 0.1473\n",
      "Temperature: 2.0, Threshold: 0.5 -> F1-score: 0.3303\n",
      "\n",
      "Melhores parâmetros:\n",
      "Temperature: 1.8, Threshold: 0.3, F1-score: 0.3866\n"
     ]
    }
   ],
   "source": [
    "from itertools import product\n",
    "from sklearn.metrics import f1_score\n",
    "\n",
    "# Hiperparâmetros para o Grid Search\n",
    "temperatures = [1.0, 1.5, 1.8, 2.0]\n",
    "thresholds = [0.3, 0.35, 0.4, 0.5]\n",
    "\n",
    "best_f1 = 0\n",
    "best_params = {}\n",
    "\n",
    "# Grid Search\n",
    "for temperature, threshold in product(temperatures, thresholds):\n",
    "    model = LogisticRegression(\n",
    "        lr=0.01, max_iters=1000, temperature=temperature, threshold=threshold\n",
    "    )\n",
    "    model.fit(X_train, y_train)\n",
    "\n",
    "    y_pred = model.predict(X_test)\n",
    "    f1 = f1_score(y_test, y_pred)\n",
    "\n",
    "    print(f\"Temperature: {temperature}, Threshold: {threshold} -> F1-score: {f1:.4f}\")\n",
    "\n",
    "    if f1 > best_f1:\n",
    "        best_f1 = f1\n",
    "        best_params = {'temperature': temperature, 'threshold': threshold}\n",
    "\n",
    "print(\"\\nMelhores parâmetros:\")\n",
    "print(f\"Temperature: {best_params['temperature']}, Threshold: {best_params['threshold']}, F1-score: {best_f1:.4f}\")\n"
   ]
  },
  {
   "cell_type": "code",
   "execution_count": 270,
   "id": "ecdecf89",
   "metadata": {},
   "outputs": [
    {
     "name": "stdout",
     "output_type": "stream",
     "text": [
      "Weighted BCE Model New Sigma\n",
      "Acurácia: 0.9033112582781457\n",
      "Precisão: 0.2923076923076923\n",
      "Recall: 0.41304347826086957\n",
      "F1-score: 0.34234234234234234\n",
      "Matriz de Confusão:\n",
      "[[663  46]\n",
      " [ 27  19]]\n"
     ]
    }
   ],
   "source": [
    "model_weighted_newSigmoid = LogisticRegression(lr=0.01, tolerance=1e-6, max_iters=1000, temperature=1.8, threshold=0.4)\n",
    "model_weighted_newSigmoid.fit(X_train, y_train)\n",
    "\n",
    "y_pred = model_weighted_newSigmoid.predict(X_test)\n",
    "print(\"Weighted BCE Model New Sigma\")\n",
    "print(\"Acurácia:\", accuracy_score(y_test, y_pred))\n",
    "print(\"Precisão:\", precision_score(y_test, y_pred))\n",
    "print(\"Recall:\", recall_score(y_test, y_pred))\n",
    "print(\"F1-score:\", f1_score(y_test, y_pred))\n",
    "print(\"Matriz de Confusão:\")\n",
    "print(confusion_matrix(y_test, y_pred))"
   ]
  },
  {
   "cell_type": "code",
   "execution_count": 271,
   "id": "993c6ee8",
   "metadata": {},
   "outputs": [
    {
     "name": "stdout",
     "output_type": "stream",
     "text": [
      "BCE Sigmoid Model\n",
      "Acurácia: 0.9364238410596026\n",
      "Precisão: 0.0\n",
      "Recall: 0.0\n",
      "F1-score: 0.0\n",
      "Matriz de Confusão:\n",
      "[[707   2]\n",
      " [ 46   0]]\n"
     ]
    }
   ],
   "source": [
    "## Teste com nova funcao de custo\n",
    "# Isso garante que qualquer alteração feita entre em vigor sem reiniciar o kernel.\n",
    "from src.BCE_Logistic_Sigmoid import BCE_Logistic_Sigmoid\n",
    "\n",
    "model_bce_sig = BCE_Logistic_Sigmoid(lr=0.001, max_iters=1000, temperature=1.0)\n",
    "model_bce_sig.fit(X_train, y_train)\n",
    "\n",
    "y_pred = model_bce_sig.predict(X_test)\n",
    "print(\"BCE Sigmoid Model\")\n",
    "print(\"Acurácia:\", accuracy_score(y_test, y_pred))\n",
    "print(\"Precisão:\", precision_score(y_test, y_pred))\n",
    "print(\"Recall:\", recall_score(y_test, y_pred))\n",
    "print(\"F1-score:\", f1_score(y_test, y_pred))\n",
    "print(\"Matriz de Confusão:\")\n",
    "print(confusion_matrix(y_test, y_pred))\n"
   ]
  },
  {
   "cell_type": "code",
   "execution_count": 272,
   "id": "11e8d248",
   "metadata": {},
   "outputs": [
    {
     "data": {
      "image/png": "[encoded data removed]",
      "text/plain": [
       "<Figure size 640x480 with 1 Axes>"
      ]
     },
     "metadata": {},
     "output_type": "display_data"
    }
   ],
   "source": [
    "#Comparacao grafica dos erros dos modelos\n",
    "\n",
    "plt.plot(model_bce.errors, label=\"BCE\")\n",
    "plt.plot(model_focal.errors, label=\"Focal Loss\")\n",
    "plt.plot(model_weighted.errors, label=\"Weighted BCE\")\n",
    "plt.plot(model_weighted_newSigmoid.errors, label=\"Weighted BCE N.Sigm\")\n",
    "plt.xlabel(\"Iterações\")\n",
    "plt.ylabel(\"Loss\")\n",
    "plt.title(\"Comparação BCE vs Focal Loss\")\n",
    "plt.legend()\n",
    "plt.grid(True)\n",
    "plt.show()\n",
    "\n"
   ]
  },
  {
   "cell_type": "markdown",
   "id": "5bb93c0f",
   "metadata": {},
   "source": [
    "| Modelo        | Acuracia | Precisão | Recall | F1-score | Predição de classe 1? | Comentários                             |\n",
    "|---------------|----------|----------|--------|----------|-----------------------|-----------------------------------------|\n",
    "| BCE (padrão)  | 0.9364   | 0.00     | 0.00   | 0.00     | Nunca                 | Totalmente enviesado para classe 0      |\n",
    "| Focal Loss    | 0.9377   | 0.00     | 0.00   | 0.00     | Nunca                 | Mesmo problema —                        |\n",
    "| Weighted BCE  | 0.4185   | 0.08     | 0.84   | 0.15     | Sim                   | aprendeu algo sobre a classe 1          |\n",
    "| Weighted BCE New Sig  | 0.8105   | 0.19     | 0.65   | 0.29     | Sim                   | aprendeu algo sobre a classe 1          |"
   ]
  }
 ],
 "metadata": {
  "kernelspec": {
   "display_name": "base",
   "language": "python",
   "name": "python3"
  },
  "language_info": {
   "codemirror_mode": {
    "name": "ipython",
    "version": 3
   },
   "file_extension": ".py",
   "mimetype": "text/x-python",
   "name": "python",
   "nbconvert_exporter": "python",
   "pygments_lexer": "ipython3",
   "version": "3.12.4"
  }
 },
 "nbformat": 4,
 "nbformat_minor": 5
}
