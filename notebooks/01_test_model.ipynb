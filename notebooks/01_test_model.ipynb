{
 "cells": [
  {
   "cell_type": "code",
   "execution_count": 19,
   "id": "d8c1e797",
   "metadata": {},
   "outputs": [],
   "source": [
    "import pandas as pd\n",
    "from sklearn.model_selection import train_test_split\n",
    "import numpy as np\n",
    "import sys\n",
    "import os\n",
    "\n",
    "# Adiciona o caminho da raiz do projeto (BINARYCLASSIFICATION) ao sys.path\n",
    "sys.path.append(os.path.abspath(\"..\"))\n"
   ]
  },
  {
   "cell_type": "code",
   "execution_count": 20,
   "id": "648fa4b6",
   "metadata": {},
   "outputs": [],
   "source": [
    "df = pd.read_csv(\"../data/class_imbalance/dataset_38_sick.csv\")"
   ]
  },
  {
   "cell_type": "code",
   "execution_count": 21,
   "id": "2aaba427",
   "metadata": {},
   "outputs": [
    {
     "name": "stdout",
     "output_type": "stream",
     "text": [
      "    age sex on_thyroxine query_on_thyroxine on_antithyroid_medication sick  \\\n",
      "0  41.0   F            f                  f                         f    f   \n",
      "1  23.0   F            f                  f                         f    f   \n",
      "2  46.0   M            f                  f                         f    f   \n",
      "3  70.0   F            t                  f                         f    f   \n",
      "4  70.0   F            f                  f                         f    f   \n",
      "\n",
      "  pregnant thyroid_surgery I131_treatment query_hypothyroid  ... TT4_measured  \\\n",
      "0        f               f              f                 f  ...            t   \n",
      "1        f               f              f                 f  ...            t   \n",
      "2        f               f              f                 f  ...            t   \n",
      "3        f               f              f                 f  ...            t   \n",
      "4        f               f              f                 f  ...            t   \n",
      "\n",
      "     TT4 T4U_measured   T4U FTI_measured    FTI TBG_measured  TBG  \\\n",
      "0  125.0            t  1.14            t  109.0            f  NaN   \n",
      "1  102.0            f   NaN            f    NaN            f  NaN   \n",
      "2  109.0            t  0.91            t  120.0            f  NaN   \n",
      "3  175.0            f   NaN            f    NaN            f  NaN   \n",
      "4   61.0            t  0.87            t   70.0            f  NaN   \n",
      "\n",
      "  referral_source     Class  \n",
      "0            SVHC  negative  \n",
      "1           other  negative  \n",
      "2           other  negative  \n",
      "3           other  negative  \n",
      "4             SVI  negative  \n",
      "\n",
      "[5 rows x 30 columns]\n"
     ]
    }
   ],
   "source": [
    "print(df.head())"
   ]
  },
  {
   "cell_type": "code",
   "execution_count": 22,
   "id": "c6003b56",
   "metadata": {},
   "outputs": [
    {
     "name": "stdout",
     "output_type": "stream",
     "text": [
      "Class\n",
      "negative    3541\n",
      "sick         231\n",
      "Name: count, dtype: int64\n"
     ]
    }
   ],
   "source": [
    "print(df.value_counts(df.columns[-1]))"
   ]
  },
  {
   "cell_type": "code",
   "execution_count": 23,
   "id": "7b1a276b",
   "metadata": {},
   "outputs": [],
   "source": [
    "df[\"Class\"] = df[\"Class\"].map({\"negative\": 0, \"sick\": 1})\n"
   ]
  },
  {
   "cell_type": "code",
   "execution_count": 24,
   "id": "fb3e620f",
   "metadata": {},
   "outputs": [],
   "source": [
    "binary_map = {\"t\": 1, \"f\": 0, \"M\": 1, \"F\": 0}\n",
    "df = df.replace(binary_map)\n"
   ]
  },
  {
   "cell_type": "code",
   "execution_count": 25,
   "id": "c84e7768",
   "metadata": {},
   "outputs": [],
   "source": [
    "df = df.replace(\"?\", np.nan)"
   ]
  },
  {
   "cell_type": "code",
   "execution_count": 26,
   "id": "74862aa1",
   "metadata": {},
   "outputs": [],
   "source": [
    "df = df.drop(columns=[\"referral_source\"])\n"
   ]
  },
  {
   "cell_type": "code",
   "execution_count": 27,
   "id": "63a02fd8",
   "metadata": {},
   "outputs": [],
   "source": [
    "num_cols = df.select_dtypes(include=['float64', 'int64']).columns\n",
    "cat_cols = df.select_dtypes(include=['object', 'bool']).columns\n",
    "\n",
    "# Preenche colunas numéricas com a média\n",
    "for col in num_cols:\n",
    "    df[col] = df[col].fillna(df[col].mean())\n",
    "\n",
    "# Preenche colunas categóricas com a moda (linha por linha, seguro)\n",
    "for col in cat_cols:\n",
    "    if df[col].isnull().sum() > 0:\n",
    "        moda = df[col].mode()\n",
    "        if not moda.empty:\n",
    "            df[col] = df[col].fillna(moda.iloc[0])\n"
   ]
  },
  {
   "cell_type": "code",
   "execution_count": 28,
   "id": "fb7e9091",
   "metadata": {},
   "outputs": [
    {
     "name": "stdout",
     "output_type": "stream",
     "text": [
      "Valores ausentes restantes: 3772\n"
     ]
    }
   ],
   "source": [
    "print(\"Valores ausentes restantes:\", df.isnull().sum().sum())\n"
   ]
  },
  {
   "cell_type": "code",
   "execution_count": 29,
   "id": "97870f2b",
   "metadata": {},
   "outputs": [
    {
     "name": "stdout",
     "output_type": "stream",
     "text": [
      "TBG    3772\n",
      "dtype: int64\n"
     ]
    }
   ],
   "source": [
    "print(df.isnull().sum()[df.isnull().sum() > 0].sort_values(ascending=False))\n"
   ]
  },
  {
   "cell_type": "code",
   "execution_count": 30,
   "id": "a9ed0535",
   "metadata": {},
   "outputs": [],
   "source": [
    "df = df.drop(columns=[\"TBG\"])\n"
   ]
  },
  {
   "cell_type": "code",
   "execution_count": 31,
   "id": "1cafa05c",
   "metadata": {},
   "outputs": [],
   "source": [
    "X = df.drop(\"Class\", axis=1).values\n",
    "y = df[\"Class\"].values\n"
   ]
  },
  {
   "cell_type": "code",
   "execution_count": 32,
   "id": "28ddf068",
   "metadata": {},
   "outputs": [],
   "source": [
    "X_train, X_test, y_train, y_test = train_test_split(\n",
    "    X, y, test_size=0.2, random_state=42, stratify=y  # mantém proporção das classes\n",
    ")\n"
   ]
  },
  {
   "cell_type": "code",
   "execution_count": 33,
   "id": "07d2dd67",
   "metadata": {},
   "outputs": [
    {
     "name": "stderr",
     "output_type": "stream",
     "text": [
      "C:\\Users\\Yan\\AppData\\Roaming\\Python\\Python312\\site-packages\\autograd\\tracer.py:48: RuntimeWarning: overflow encountered in exp\n",
      "  return f_raw(*args, **kwargs)\n",
      "C:\\Users\\Yan\\AppData\\Roaming\\Python\\Python312\\site-packages\\autograd\\numpy\\numpy_vjps.py:52: RuntimeWarning: overflow encountered in square\n",
      "  lambda ans, x, y : unbroadcast_f(y, lambda g: - g * x / y**2))\n",
      "C:\\Users\\Yan\\AppData\\Roaming\\Python\\Python312\\site-packages\\autograd\\numpy\\numpy_vjps.py:74: RuntimeWarning: invalid value encountered in multiply\n",
      "  defvjp(anp.exp,    lambda ans, x : lambda g: ans * g)\n"
     ]
    }
   ],
   "source": [
    "from src.logistic_regression import LogisticRegression\n",
    "\n",
    "model = LogisticRegression(lr=0.1, max_iters=1000)\n",
    "model.fit(X_train, y_train)\n"
   ]
  },
  {
   "cell_type": "code",
   "execution_count": 34,
   "id": "82e393af",
   "metadata": {},
   "outputs": [
    {
     "name": "stdout",
     "output_type": "stream",
     "text": [
      "Acurácia: 0.9390728476821192\n",
      "Precisão: 0.0\n",
      "Recall: 0.0\n",
      "F1-score: 0.0\n",
      "Matriz de Confusão:\n",
      "[[709   0]\n",
      " [ 46   0]]\n"
     ]
    },
    {
     "name": "stderr",
     "output_type": "stream",
     "text": [
      "C:\\Users\\Yan\\AppData\\Roaming\\Python\\Python312\\site-packages\\sklearn\\metrics\\_classification.py:1531: UndefinedMetricWarning: Precision is ill-defined and being set to 0.0 due to no predicted samples. Use `zero_division` parameter to control this behavior.\n",
      "  _warn_prf(average, modifier, f\"{metric.capitalize()} is\", len(result))\n"
     ]
    }
   ],
   "source": [
    "from sklearn.metrics import accuracy_score, precision_score, recall_score, f1_score, confusion_matrix\n",
    "\n",
    "y_pred = model.predict(X_test)\n",
    "\n",
    "print(\"Acurácia:\", accuracy_score(y_test, y_pred))\n",
    "print(\"Precisão:\", precision_score(y_test, y_pred))\n",
    "print(\"Recall:\", recall_score(y_test, y_pred))\n",
    "print(\"F1-score:\", f1_score(y_test, y_pred))\n",
    "print(\"Matriz de Confusão:\")\n",
    "print(confusion_matrix(y_test, y_pred))\n"
   ]
  },
  {
   "cell_type": "code",
   "execution_count": null,
   "id": "91086c82",
   "metadata": {},
   "outputs": [],
   "source": []
  }
 ],
 "metadata": {
  "kernelspec": {
   "display_name": "base",
   "language": "python",
   "name": "python3"
  },
  "language_info": {
   "codemirror_mode": {
    "name": "ipython",
    "version": 3
   },
   "file_extension": ".py",
   "mimetype": "text/x-python",
   "name": "python",
   "nbconvert_exporter": "python",
   "pygments_lexer": "ipython3",
   "version": "3.12.4"
  }
 },
 "nbformat": 4,
 "nbformat_minor": 5
}
